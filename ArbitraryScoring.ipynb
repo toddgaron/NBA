{
 "cells": [
  {
   "cell_type": "code",
   "execution_count": 1,
   "metadata": {
    "collapsed": false
   },
   "outputs": [
    {
     "name": "stderr",
     "output_type": "stream",
     "text": [
      "/Library/Python/2.7/site-packages/matplotlib/__init__.py:872: UserWarning: axes.color_cycle is deprecated and replaced with axes.prop_cycle; please use the latter.\n",
      "  warnings.warn(self.msg_depr % (key, alt_key))\n"
     ]
    }
   ],
   "source": [
    "import numpy as np\n",
    "import pandas as pd\n",
    "import os, glob, dill\n",
    "from collections import defaultdict, Counter\n",
    "%matplotlib inline\n",
    "import matplotlib.pyplot as plt\n",
    "import seaborn as sns"
   ]
  },
  {
   "cell_type": "code",
   "execution_count": 2,
   "metadata": {
    "collapsed": false
   },
   "outputs": [],
   "source": [
    "class game():\n",
    "    def __init__(self, df):\n",
    "        df=df[df['period']<=4]\n",
    "        self.teams = list(df.team.dropna().unique())\n",
    "        self.regscoring = dict(df[(df['shot_distance'].fillna(-1) >= 0) & (df['result'] == 'made')]\\\n",
    "                               .groupby('team')['points'].sum())\n",
    "        self.shots = dict(list(df[(df['shot_distance'].fillna(-1) >= 0) & (df['result'] == 'made')]\\\n",
    "                               [['team','player','shot_distance','points']]\\\n",
    "                               .groupby('team')[['player','shot_distance','points']]))\n",
    "        self.fts = dict(list( df[(df['event_type'] == 'free throw') & (df['result'] == 'made')]\\\n",
    "                             [['team','player']].dropna().groupby(['team'])))\n",
    "        self.reScores = {}\n",
    "        self.regScores = {}\n",
    "        self.pScores = []\n",
    "        \n",
    "    def newScores(self, func, fts = True):\n",
    "        for team in self.teams:\n",
    "            self.shots[team]['new'] = self.shots[team]['shot_distance'].apply(lambda x: func(x))\n",
    "            self.reScores[team] = sum(self.shots[team]['new'])\n",
    "            self.regScores[team] = self.regscoring[team]\n",
    "            if fts:\n",
    "                ft = self.fts[team].count()['team']\n",
    "                self.reScores[team] += ft\n",
    "                self.regScores[team] += ft\n",
    "    \n",
    "    def emitData(self):\n",
    "        scr = self.reScores.items()\n",
    "        return [(scr[0][0], 1.* (scr[0][1]-scr[1][1])/max([scr[0][1], scr[1][1]]),\\\n",
    "                 scr[0][1], scr[1][1], self.regScores[scr[0][0]],  self.regScores[scr[1][0]])\\\n",
    "                ,(scr[1][0], 1.* (scr[1][1]-scr[0][1])/max([scr[0][1],scr[1][1]]),\\\n",
    "                  scr[1][1], scr[0][1], self.regScores[scr[1][0]],  self.regScores[scr[0][0]])]#\\\n",
    "                #, self.pScores\n",
    "    \n",
    "    def playerScoring(self, fts = True):\n",
    "        self.pScores = []\n",
    "        for team in self.teams:\n",
    "            pts = Counter(dict(self.shots[team].groupby('player')['new'].sum()))\n",
    "            if fts:\n",
    "                pts += Counter(dict(self.fts[team].groupby('player').count()['team']))\n",
    "            self.pScores.extend(pts.items())\n",
    "    \n",
    "    def playGame(self, func, fts = True):\n",
    "        self.newScores(func, fts)\n",
    "        #self.playerScoring(fts)\n",
    "        return self.emitData()\n",
    "                "
   ]
  },
  {
   "cell_type": "code",
   "execution_count": 55,
   "metadata": {
    "collapsed": false
   },
   "outputs": [],
   "source": [
    "def collectPlayers(game):\n",
    "    ww = {}\n",
    "    for team in game.teams:\n",
    "        w = dict(list(game.shots[team][['player','shot_distance','points']].groupby('player')))\n",
    "        z = dict(game.fts[team].groupby('player').count()['team'])\n",
    "\n",
    "        for i in set(w.keys() + z.keys()):\n",
    "            try:\n",
    "                a = list(w[i]['shot_distance'])\n",
    "                b = list(w[i]['points'])\n",
    "            except:\n",
    "                a, b = [], []\n",
    "            try:\n",
    "                c = z[i]\n",
    "            except:\n",
    "                c = 0\n",
    "            ww[i] = {'shot_distance' : a, 'points' : b, 'fts': c, 'games': 1 } \n",
    "            \n",
    "    return ww\n",
    "\n",
    "players = defaultdict(list)\n",
    "for game in games:\n",
    "    pscores = collectPlayers(game)\n",
    "    for i in pscores.keys():\n",
    "        players[i].append({'fts':pscores[i]['fts'],'shot_distance':pscores[i]['shot_distance'], 'points': pscores[i]['points']})"
   ]
  },
  {
   "cell_type": "code",
   "execution_count": 59,
   "metadata": {
    "collapsed": false
   },
   "outputs": [],
   "source": [
    "scoringQualified = {k: v for k, v in players.iteritems() if len(v) >=70}"
   ]
  },
  {
   "cell_type": "code",
   "execution_count": 60,
   "metadata": {
    "collapsed": false
   },
   "outputs": [
    {
     "data": {
      "text/plain": [
       "143"
      ]
     },
     "execution_count": 60,
     "metadata": {},
     "output_type": "execute_result"
    }
   ],
   "source": [
    "len(scoringQualified)"
   ]
  },
  {
   "cell_type": "code",
   "execution_count": 74,
   "metadata": {
    "collapsed": true
   },
   "outputs": [],
   "source": [
    "def playerScoring(pts, func, fts = True):\n",
    "    r = []\n",
    "    for player,games in pts.iteritems():\n",
    "        r.append((player,\\\n",
    "                  round(np.mean([sum(map( lambda x: func(x) , i['shot_distance']))\\\n",
    "                           + i['fts'] if fts else 0 for i in games ]),1)))\n",
    "    return sorted(r, key = lambda (i,j): (-j,i))\n",
    "            "
   ]
  },
  {
   "cell_type": "code",
   "execution_count": 78,
   "metadata": {
    "collapsed": false
   },
   "outputs": [
    {
     "name": "stdout",
     "output_type": "stream",
     "text": [
      "10 loops, best of 3: 107 ms per loop\n"
     ]
    }
   ],
   "source": [
    "%timeit playerScoring(scoringQualified, lambda x:  np.log(3+2.73*x/20))"
   ]
  },
  {
   "cell_type": "code",
   "execution_count": 3,
   "metadata": {
    "collapsed": false
   },
   "outputs": [],
   "source": [
    "games = []\n",
    "\n",
    "for csv in glob.glob('2015-16/*.csv'):\n",
    "    g1 = pd.read_csv('{}'.format(csv))\n",
    "    if g1['data_set'].unique()[0] != '2015-2016 Regular Season':\n",
    "        continue\n",
    "    else:\n",
    "        try:\n",
    "            games.append(game(g1))\n",
    "\n",
    "        except:\n",
    "            print csv"
   ]
  },
  {
   "cell_type": "code",
   "execution_count": 4,
   "metadata": {
    "collapsed": false
   },
   "outputs": [],
   "source": [
    "def reScoreSeason(games, func, fts=True):\n",
    "    west = ['GSW','LAC','SAS','HOU','POR','DAL','OKC','PHX','MEM','UTA','SAC','DEN','NOP','LAL','MIN']\n",
    "    scores = defaultdict(list)\n",
    "    players = defaultdict(list)\n",
    "    for i in games:\n",
    "        s = i.playGame(func, fts)\n",
    "        for j in s:\n",
    "            scores[j[0]].append(j[1:]) \n",
    "#         for j in t:\n",
    "#             if j[0] in scoringLeaders:\n",
    "#                 players[j[0]].append(j[1])\n",
    "    \n",
    "    newScores = []\n",
    "    for key in scores.keys():\n",
    "        newScores.append((key, sum([1 for i in scores[key] if i[0] > 0 ]),\n",
    "                      sum([1 for i in scores[key] if i[0] < 0]),\n",
    "                      sum([1 for i in scores[key] if i[0] == 0]),\n",
    "                      round(np.mean([i[1] for i in scores[key]]),1),\n",
    "                      round(np.mean([i[1]-i[3] for i in scores[key]]),1),\n",
    "                      round(np.mean([i[2] for i in scores[key]]),1),\n",
    "                      round(np.mean([i[2]-i[4] for i in scores[key]]),1),\n",
    "                      1 if key in west else 0 ))\n",
    "    newScores.sort(key= lambda (name, a,b,c,d, e,f,g,h): (h,-a,-c,b, name ,d, e,f,g))\n",
    "#     newPlayers = []\n",
    "    \n",
    "#     for key in players.keys():\n",
    "#         if len(players[key]) >= 70:\n",
    "#             newPlayers.append((key, round(np.mean(players[key]), 2)))\n",
    "            \n",
    "    return newScores#, sorted(newPlayers, key = lambda (i,j): (-j,i))\n",
    "    \n",
    "    "
   ]
  },
  {
   "cell_type": "code",
   "execution_count": 92,
   "metadata": {
    "collapsed": false,
    "scrolled": true
   },
   "outputs": [
    {
     "data": {
      "text/plain": [
       "[('CLE', 53, 29, 0, 112.0, 8.5, 107.0, 9.6, 0),\n",
       " ('IND', 52, 30, 0, 112.2, 10.9, 108.9, 9.6, 0),\n",
       " ('TOR', 49, 33, 0, 111.1, 9.0, 107.2, 9.5, 0),\n",
       " ('ATL', 48, 34, 0, 110.6, 8.4, 107.9, 9.6, 0),\n",
       " ('MIA', 48, 34, 0, 110.1, 10.9, 108.1, 10.5, 0),\n",
       " ('BOS', 45, 37, 0, 114.5, 9.4, 111.7, 9.8, 0),\n",
       " ('CHI', 43, 39, 0, 111.8, 11.1, 112.7, 10.7, 0),\n",
       " ('WAS', 42, 40, 0, 114.5, 10.7, 114.5, 10.4, 0),\n",
       " ('ORL', 41, 41, 0, 112.5, 11.4, 111.8, 9.1, 0),\n",
       " ('CHA', 40, 42, 0, 111.3, 8.9, 110.0, 10.0, 0),\n",
       " ('DET', 40, 42, 0, 109.4, 8.5, 110.9, 10.5, 0),\n",
       " ('MIL', 36, 46, 0, 107.6, 9.4, 110.6, 7.9, 0),\n",
       " ('NYK', 36, 46, 0, 109.4, 11.8, 110.4, 10.0, 0),\n",
       " ('BKN', 29, 53, 0, 109.8, 11.4, 115.0, 9.3, 0),\n",
       " ('PHI', 10, 72, 0, 104.1, 7.1, 117.6, 10.6, 0),\n",
       " ('SAS', 69, 13, 0, 116.0, 12.5, 103.2, 10.4, 1),\n",
       " ('GSW', 67, 15, 0, 122.7, 8.9, 113.9, 10.6, 1),\n",
       " ('OKC', 54, 28, 0, 119.7, 10.3, 111.3, 9.1, 1),\n",
       " ('LAC', 51, 31, 0, 114.5, 10.8, 109.4, 9.8, 1),\n",
       " ('MEM', 45, 37, 0, 108.7, 10.3, 109.1, 8.4, 1),\n",
       " ('POR', 42, 40, 0, 114.0, 9.5, 114.5, 10.9, 1),\n",
       " ('UTA', 40, 42, 0, 104.9, 8.5, 103.7, 9.2, 1),\n",
       " ('DAL', 39, 43, 0, 109.9, 9.6, 110.9, 9.9, 1),\n",
       " ('HOU', 35, 47, 0, 112.1, 6.3, 114.4, 8.7, 1),\n",
       " ('MIN', 35, 47, 0, 112.8, 11.3, 114.2, 9.2, 1),\n",
       " ('NOP', 33, 49, 0, 112.5, 10.3, 115.9, 10.1, 1),\n",
       " ('SAC', 33, 49, 0, 115.8, 9.7, 118.9, 10.4, 1),\n",
       " ('DEN', 31, 51, 0, 110.1, 8.8, 113.9, 9.6, 1),\n",
       " ('PHX', 24, 58, 0, 109.4, 8.7, 116.8, 9.4, 1),\n",
       " ('LAL', 20, 62, 0, 106.7, 9.6, 116.3, 9.6, 1)]"
      ]
     },
     "execution_count": 92,
     "metadata": {},
     "output_type": "execute_result"
    }
   ],
   "source": [
    "reScoreSeason(games, lambda x: 2 + np.log(1+1.73*x/25) , True)"
   ]
  },
  {
   "cell_type": "code",
   "execution_count": 8,
   "metadata": {
    "collapsed": false
   },
   "outputs": [
    {
     "data": {
      "text/plain": [
       "[('CLE', 53, 29, 0, 149.2, 45.7, 142.5, 45.1, 0),\n",
       " ('IND', 52, 30, 0, 149.0, 47.7, 144.9, 45.6, 0),\n",
       " ('TOR', 50, 32, 0, 146.6, 44.5, 142.4, 44.7, 0),\n",
       " ('BOS', 49, 33, 0, 152.6, 47.5, 148.1, 46.2, 0),\n",
       " ('ATL', 47, 35, 0, 148.0, 45.8, 143.7, 45.4, 0),\n",
       " ('ORL', 46, 36, 0, 150.6, 49.5, 148.9, 46.3, 0),\n",
       " ('MIA', 45, 37, 0, 147.6, 48.3, 144.0, 46.4, 0),\n",
       " ('WAS', 43, 39, 0, 152.7, 48.9, 151.8, 47.6, 0),\n",
       " ('MIL', 41, 41, 0, 145.5, 47.3, 147.3, 44.7, 0),\n",
       " ('CHI', 38, 44, 0, 148.8, 48.1, 150.7, 48.7, 0),\n",
       " ('DET', 38, 44, 0, 146.1, 45.2, 148.5, 48.1, 0),\n",
       " ('CHA', 36, 46, 0, 146.6, 44.2, 146.3, 46.3, 0),\n",
       " ('NYK', 33, 49, 0, 144.6, 47.0, 147.2, 46.8, 0),\n",
       " ('BKN', 29, 53, 0, 146.9, 48.5, 154.7, 49.1, 0),\n",
       " ('PHI', 14, 68, 0, 139.4, 42.4, 156.1, 49.1, 0),\n",
       " ('SAS', 70, 12, 0, 154.8, 51.4, 137.9, 45.1, 1),\n",
       " ('GSW', 64, 18, 0, 163.3, 49.6, 151.4, 48.1, 1),\n",
       " ('OKC', 52, 30, 0, 159.7, 50.2, 148.8, 46.6, 1),\n",
       " ('LAC', 51, 31, 0, 151.0, 47.4, 144.9, 45.4, 1),\n",
       " ('MEM', 46, 36, 0, 144.5, 46.1, 143.7, 43.0, 1),\n",
       " ('UTA', 44, 38, 0, 139.6, 43.2, 137.9, 43.4, 1),\n",
       " ('POR', 41, 41, 0, 151.1, 46.5, 151.3, 47.7, 1),\n",
       " ('DAL', 39, 43, 0, 145.2, 45.0, 147.4, 46.5, 1),\n",
       " ('NOP', 36, 46, 0, 149.6, 47.4, 153.8, 47.9, 1),\n",
       " ('MIN', 35, 47, 0, 149.4, 48.0, 153.0, 48.0, 1),\n",
       " ('SAC', 35, 47, 0, 154.9, 48.8, 157.8, 49.4, 1),\n",
       " ('HOU', 33, 49, 0, 148.8, 43.1, 152.2, 46.5, 1),\n",
       " ('DEN', 27, 55, 0, 146.9, 45.6, 151.3, 47.0, 1),\n",
       " ('PHX', 26, 56, 0, 145.6, 44.9, 154.8, 47.4, 1),\n",
       " ('LAL', 17, 65, 0, 140.6, 43.6, 155.9, 49.3, 1)]"
      ]
     },
     "execution_count": 8,
     "metadata": {},
     "output_type": "execute_result"
    }
   ],
   "source": [
    "reScoreSeason(games, lambda x: 2. + np.log(3+2.73*x/20) , True)"
   ]
  },
  {
   "cell_type": "code",
   "execution_count": null,
   "metadata": {
    "collapsed": false
   },
   "outputs": [],
   "source": []
  },
  {
   "cell_type": "code",
   "execution_count": null,
   "metadata": {
    "collapsed": true
   },
   "outputs": [],
   "source": []
  }
 ],
 "metadata": {
  "kernelspec": {
   "display_name": "Python 2",
   "language": "python",
   "name": "python2"
  },
  "language_info": {
   "codemirror_mode": {
    "name": "ipython",
    "version": 2
   },
   "file_extension": ".py",
   "mimetype": "text/x-python",
   "name": "python",
   "nbconvert_exporter": "python",
   "pygments_lexer": "ipython2",
   "version": "2.7.10"
  }
 },
 "nbformat": 4,
 "nbformat_minor": 0
}
