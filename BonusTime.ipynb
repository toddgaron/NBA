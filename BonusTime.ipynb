{
 "cells": [
  {
   "cell_type": "code",
   "execution_count": 299,
   "metadata": {
    "collapsed": false
   },
   "outputs": [],
   "source": [
    "import numpy as np\n",
    "import pandas as pd\n",
    "import os, glob\n",
    "import matplotlib.pyplot as plt\n",
    "%matplotlib inline\n",
    "import seaborn as sns\n",
    "from datetime import datetime\n",
    "from collections import defaultdict"
   ]
  },
  {
   "cell_type": "code",
   "execution_count": 523,
   "metadata": {
    "collapsed": false
   },
   "outputs": [],
   "source": [
    "west = ['GSW','LAC','SAS','HOU','POR','DAL','OKC','PHX','MEM','UTA','SAC','DEN','NOP','LAL','MIN']\n",
    "\n",
    "def addToDict(team, win, a, b, periods):\n",
    "    a = dict(a)\n",
    "    b = dict(b)\n",
    "    a['team'] = team\n",
    "    a['win'] = win\n",
    "    a['west'] = 1 if team in west else 0\n",
    "    for i in range(1, max(periods + 1)):\n",
    "        if i in a.keys():\n",
    "            a[i] = 60*int(a[i][3:5]) + int(a[i][6:])\n",
    "        if i in b.keys():\n",
    "            a[-i] = 60*int(b[i][3:5]) + int(b[i][6:])\n",
    "    return a\n",
    "        \n",
    "def bonusTime(dfIn, year):\n",
    "    teams = dfIn['team'].dropna().unique()\n",
    "    periods =  dfIn['period'].dropna().unique()\n",
    "    final = dict(dfIn.groupby('team').sum()['points'].iteritems())\n",
    "    \n",
    "    df = dfIn#[dfIn['period']<=4]\n",
    "    if year != 2015:\n",
    "        df['Total Fouls'] = df[df['event_type']=='foul']['description'].fillna('123').apply(lambda x: x[-3:-1])\n",
    "    else:\n",
    "        df['Total Fouls'] = df[df['event_type']=='foul']['description'].fillna('a a a a').apply(lambda x: x.split()[-2][-3:-1])\n",
    "    bTimes = df[(df['event_type'] == 'foul') & (df['Total Fouls'] == 'PN')][['period','remaining_time','team']].groupby('team')\n",
    "    \n",
    "    \n",
    "    bonuses= []\n",
    "    for team in teams:\n",
    "        opp = list(set(teams) - set([team]))[0]\n",
    "        try:\n",
    "            a = bTimes.get_group(opp).groupby('period')['remaining_time'].max().iteritems()\n",
    "        except:\n",
    "            a = []\n",
    "        try:\n",
    "            b = bTimes.get_group(team).groupby('period')['remaining_time'].max().iteritems()\n",
    "        except:\n",
    "            b = []\n",
    "\n",
    "        bonuses.append( addToDict(team, 1 if final[team] == max(final.values()) else 0,\\\n",
    "                         a, b, periods))\n",
    "    return bonuses"
   ]
  },
  {
   "cell_type": "code",
   "execution_count": 524,
   "metadata": {
    "collapsed": false
   },
   "outputs": [],
   "source": [
    "scores = []\n",
    "\n",
    "for csv in glob.glob('2015-16/*.csv'):\n",
    "    g1 = pd.read_csv('{}'.format(csv))\n",
    "    #The check here is so we only include regualr season games\n",
    "    if g1['data_set'].unique()[0] != '2015-2016 Regular Season':\n",
    "        continue\n",
    "    else:\n",
    "        try:\n",
    "            scores.extend(bonusTime(g1,2015))\n",
    "        except:\n",
    "            print csv\n",
    "            \n",
    "scores = pd.DataFrame.from_dict(scores)"
   ]
  },
  {
   "cell_type": "code",
   "execution_count": 526,
   "metadata": {
    "collapsed": false,
    "scrolled": true
   },
   "outputs": [],
   "source": [
    "l = list(scores.fillna(0).groupby('team').mean().sort_values(by=['west','win'], ascending=(True,False))[[1,-1,2,-2,3,-3,4,-4,'win']].iterrows())"
   ]
  },
  {
   "cell_type": "code",
   "execution_count": 527,
   "metadata": {
    "collapsed": false
   },
   "outputs": [
    {
     "name": "stdout",
     "output_type": "stream",
     "text": [
      "CLE|426.11 (378.26)|55.98 (34.73)|115.52 (102.27)|113.62 (104.46)|140.99 (136.8)\n",
      "TOR|446.7 (356.85)|69.83 (46.0)|125.26 (80.27)|109.71 (139.07)|141.9 (91.51)\n",
      "ATL|305.26 (346.19)|28.04 (22.5)|60.43 (81.32)|94.57 (118.74)|122.22 (123.63)\n",
      "BOS|403.87 (490.83)|43.88 (61.99)|94.44 (127.61)|139.05 (148.72)|126.5 (152.51)\n",
      "CHA|402.16 (270.5)|40.71 (28.6)|110.99 (94.85)|103.45 (71.48)|147.01 (75.57)\n",
      "MIA|392.09 (295.76)|45.24 (32.37)|96.78 (64.59)|105.11 (89.17)|144.96 (109.63)\n",
      "IND|425.67 (377.5)|51.13 (43.18)|79.39 (71.51)|139.59 (123.61)|155.56 (139.2)\n",
      "DET|406.46 (302.13)|32.4 (27.17)|125.38 (76.07)|118.59 (90.21)|130.09 (108.68)\n",
      "CHI|348.09 (329.62)|43.22 (25.26)|85.88 (79.22)|119.66 (87.49)|99.33 (137.65)\n",
      "WAS|399.52 (434.75)|31.35 (41.0)|137.79 (134.49)|97.62 (90.93)|132.76 (168.33)\n",
      "ORL|301.31 (424.4)|21.9 (58.98)|83.02 (114.02)|84.98 (113.0)|111.41 (138.4)\n",
      "MIL|364.95 (422.02)|55.1 (53.54)|81.84 (118.2)|91.71 (130.48)|136.3 (119.8)\n",
      "NYK|340.16 (360.46)|32.83 (47.37)|104.3 (88.38)|88.6 (99.33)|114.43 (125.38)\n",
      "BKN|343.01 (309.27)|32.18 (31.61)|86.63 (87.37)|91.63 (73.78)|132.57 (116.51)\n",
      "PHI|360.23 (463.36)|34.1 (79.63)|106.57 (122.18)|96.52 (125.4)|123.04 (136.15)\n",
      "GSW|364.77 (424.47)|47.95 (46.66)|88.45 (139.82)|107.3 (100.44)|121.07 (137.55)\n",
      "SAS|325.27 (310.77)|20.9 (21.67)|106.21 (65.18)|99.4 (97.16)|98.76 (126.76)\n",
      "OKC|374.38 (376.8)|56.33 (46.11)|105.05 (106.76)|133.43 (104.99)|79.57 (118.94)\n",
      "LAC|462.86 (430.12)|77.26 (36.24)|128.88 (135.63)|131.66 (101.8)|125.06 (156.45)\n",
      "POR|376.99 (409.48)|43.85 (56.33)|114.93 (111.98)|102.23 (113.73)|115.98 (127.44)\n",
      "DAL|397.89 (357.76)|68.61 (48.95)|105.62 (72.15)|89.2 (99.79)|134.46 (136.87)\n",
      "MEM|432.08 (477.55)|53.73 (49.24)|121.88 (132.46)|77.9 (124.34)|178.57 (171.51)\n",
      "HOU|476.72 (497.58)|83.52 (67.91)|122.62 (123.29)|120.29 (138.56)|150.29 (167.82)\n",
      "UTA|377.23 (344.95)|37.07 (32.79)|95.52 (97.87)|110.57 (103.89)|134.07 (110.4)\n",
      "DEN|410.89 (452.78)|74.73 (56.4)|111.15 (134.26)|105.68 (92.63)|119.33 (169.49)\n",
      "SAC|493.17 (381.5)|51.59 (54.21)|139.93 (97.77)|140.11 (100.11)|161.54 (129.41)\n",
      "NOP|388.06 (430.62)|53.76 (63.8)|101.5 (112.32)|102.59 (130.09)|130.21 (124.41)\n",
      "MIN|449.19 (438.73)|59.99 (77.87)|112.63 (117.55)|122.62 (117.13)|153.95 (126.18)\n",
      "PHX|483.96 (495.43)|43.61 (85.13)|122.55 (134.45)|170.35 (142.29)|147.45 (133.56)\n",
      "LAL|353.75 (442.38)|47.62 (61.17)|93.35 (140.68)|93.41 (128.33)|119.37 (112.2)\n",
      "League|394.43|47.95|105.48|110.04|130.96\n"
     ]
    }
   ],
   "source": [
    "for i in l:\n",
    "    a = sum([round(j[1], 2) for j in i[1].iteritems()][:-1:2])\n",
    "    b = sum([round(j[1], 2) for j in i[1].iteritems()][1:-1:2])\n",
    "    print '{}|{} ({})|{} ({})|{} ({})|{} ({})|{} ({})'.format(i[0],a,b,*[round(j[1], 2) for j in i[1].iteritems()])\n",
    "print 'League|{}|{}|{}|{}|{}'.format(round(sum(scores.fillna(0)[[1,2,3,4]].mean()), 2),\\\n",
    "                                     *map(lambda x: round(x ,2), scores.fillna(0)[[1,2,3,4]].mean()))"
   ]
  },
  {
   "cell_type": "code",
   "execution_count": 475,
   "metadata": {
    "collapsed": false
   },
   "outputs": [],
   "source": [
    "v2014 = scores.fillna(0).groupby('team').mean()"
   ]
  },
  {
   "cell_type": "code",
   "execution_count": 479,
   "metadata": {
    "collapsed": true
   },
   "outputs": [],
   "source": [
    "v2015 = scores.fillna(0).groupby('team').mean()"
   ]
  },
  {
   "cell_type": "code",
   "execution_count": 528,
   "metadata": {
    "collapsed": true
   },
   "outputs": [],
   "source": [
    "v2016 = scores.fillna(0).groupby('team').mean()"
   ]
  },
  {
   "cell_type": "code",
   "execution_count": 544,
   "metadata": {
    "collapsed": false
   },
   "outputs": [
    {
     "name": "stdout",
     "output_type": "stream",
     "text": [
      "Lightning initialized\n",
      "Connected to server at http://public.lightning-viz.org\n"
     ]
    }
   ],
   "source": [
    "from lightning import Lightning\n",
    "import random\n",
    "#lgn = Lightning(local=True)\n",
    "lgn = Lightning(host='http://public.lightning-viz.org')"
   ]
  },
  {
   "cell_type": "code",
   "execution_count": 583,
   "metadata": {
    "collapsed": false
   },
   "outputs": [],
   "source": [
    "x=[]\n",
    "y=[]\n",
    "g=['2014']*30+['2015']*30+['2016']*30\n",
    "l=[]\n",
    "for i in [v2014, v2015, v2016]:\n",
    "    x.extend(list(0.25*(i[1]-i[-1] + i[2]-i[-2]+ i[3]-i[-3]+ i[4]-i[-4])))\n",
    "    y.extend(map(lambda x: 100*x , list(i['win'])))\n",
    "    l.extend(list(i.index))"
   ]
  },
  {
   "cell_type": "code",
   "execution_count": 576,
   "metadata": {
    "collapsed": false
   },
   "outputs": [],
   "source": [
    "v=lgn.scatter(x=x, y=y, group=g, labels=map(lambda (i,j): i + ' ' + j, zip(l,g)),\\\n",
    "             alpha = 0.8, xaxis='Extra Time Spent in Bonus [s]', yaxis='Winning Percentage')\n",
    "v.open()"
   ]
  },
  {
   "cell_type": "code",
   "execution_count": 579,
   "metadata": {
    "collapsed": true
   },
   "outputs": [],
   "source": [
    "from scipy.stats import pearsonr,linregress"
   ]
  },
  {
   "cell_type": "code",
   "execution_count": 600,
   "metadata": {
    "collapsed": true
   },
   "outputs": [],
   "source": [
    "x2=[]\n",
    "y=[]\n",
    "for i in [v2014, v2015, v2016]:\n",
    "    x2.extend(list((i[1]-i[-1])))\n",
    "    y.extend(map(lambda x: 100*x , list(i['win'])))"
   ]
  },
  {
   "cell_type": "code",
   "execution_count": 606,
   "metadata": {
    "collapsed": false
   },
   "outputs": [
    {
     "name": "stdout",
     "output_type": "stream",
     "text": [
      "(0.47243093636507211, 2.5852902382360367e-06)\n",
      "LinregressResult(slope=0.17696688061383864, intercept=50.000000000000007, rvalue=0.22889984608553143, pvalue=0.030000836339967862, stderr=0.080226676025995508)\n"
     ]
    }
   ],
   "source": [
    "print pearsonr(x2,y)\n",
    "print linregress(x,y)"
   ]
  },
  {
   "cell_type": "code",
   "execution_count": 608,
   "metadata": {
    "collapsed": false
   },
   "outputs": [],
   "source": [
    "v=lgn.scatter(x=x2, y=y, group=g, labels=map(lambda (i,j): i + ' ' + j, zip(l,g)),\\\n",
    "             alpha = 0.8, xaxis='Extra Time Spent in Bonus 1Q [s]', yaxis='Winning Percentage')\n",
    "v.open()"
   ]
  },
  {
   "cell_type": "code",
   "execution_count": 421,
   "metadata": {
    "collapsed": false
   },
   "outputs": [],
   "source": [
    "b = sum([scores.fillna(0).groupby('team').get_group(team)[[1,2,3,4]].as_matrix() for team in scores['team'].unique()])/30."
   ]
  },
  {
   "cell_type": "code",
   "execution_count": 440,
   "metadata": {
    "collapsed": false
   },
   "outputs": [
    {
     "data": {
      "text/plain": [
       "<matplotlib.legend.Legend at 0x10eca0b90>"
      ]
     },
     "execution_count": 440,
     "metadata": {},
     "output_type": "execute_result"
    },
    {
     "data": {
      "image/png": "[encoded data removed]",
      "text/plain": [
       "<matplotlib.figure.Figure at 0x10eb8c2d0>"
      ]
     },
     "metadata": {},
     "output_type": "display_data"
    }
   ],
   "source": [
    "lineObjects = plt.plot(pd.rolling_mean(b,15))\n",
    "plt.legend(lineObjects, ('1','2','3','4'))"
   ]
  }
 ],
 "metadata": {
  "kernelspec": {
   "display_name": "Python 2",
   "language": "python",
   "name": "python2"
  },
  "language_info": {
   "codemirror_mode": {
    "name": "ipython",
    "version": 2
   },
   "file_extension": ".py",
   "mimetype": "text/x-python",
   "name": "python",
   "nbconvert_exporter": "python",
   "pygments_lexer": "ipython2",
   "version": "2.7.10"
  }
 },
 "nbformat": 4,
 "nbformat_minor": 0
}
