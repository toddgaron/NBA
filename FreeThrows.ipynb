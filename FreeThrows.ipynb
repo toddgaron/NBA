{
 "cells": [
  {
   "cell_type": "markdown",
   "metadata": {},
   "source": [
    "# Free Throws!"
   ]
  },
  {
   "cell_type": "code",
   "execution_count": 6,
   "metadata": {
    "collapsed": true
   },
   "outputs": [],
   "source": [
    "import numpy as np\n",
    "import pandas as pd\n",
    "import os, glob\n",
    "from collections import defaultdict"
   ]
  },
  {
   "cell_type": "code",
   "execution_count": 3,
   "metadata": {
    "collapsed": false,
    "scrolled": true
   },
   "outputs": [],
   "source": [
    "df = pd.read_csv('2013-14/[2013-11-01]-0021300023-TOR@ATL.csv')"
   ]
  },
  {
   "cell_type": "markdown",
   "metadata": {},
   "source": [
    "The following code turns a game log into usable data"
   ]
  },
  {
   "cell_type": "code",
   "execution_count": 4,
   "metadata": {
    "collapsed": false
   },
   "outputs": [],
   "source": [
    "def scoring(dfIn):\n",
    "    '''\n",
    "    Given a dataframe, we calculate how the game would go under rules where you get a single free thow for all fouls.\n",
    "    Games that are tied at the end of regulation are considered ties. \n",
    "    The output is a list of stats for each team as well as the total number of free thows and the number of free throws\n",
    "    that would not be there under the new rule. The team lists are a tuple of (team name, win/loss/tie, score, number\n",
    "    of free throws under this new rule, additional free throws under current rules, opponent score under new rules,\n",
    "    score under current rules, opponent score under current rules, total fts, made fts, fts under new rule, number of\n",
    "    made fts under new rule) and are slightly redundant in places\n",
    "    '''\n",
    "    teams = dfIn['team'].dropna().unique()\n",
    "    df = dfIn[dfIn['period']<=4]\n",
    "    field = df[(df['event_type'] != 'free throw') & (df['result'] == 'made')][['team','points']].groupby('team').sum()\n",
    "    \n",
    "    fts = df[(df['event_type'] == 'free throw') & (df['result'] == 'made')]\n",
    "    ft1 = fts[(fts['type'] == 'Free Throw 1 of 1')  | (fts['type'] == 'Free Throw Technical')][['team','points']].groupby('team').sum()\n",
    "    ft2 = 2*fts[(fts['type'] == 'Free Throw 1 of 2') | (fts['type'] == 'Free Throw Clear Path 1 of 2') | (fts['type'] == 'Free Throw Flagrant 1 of 2')][['team','points']].groupby('team').sum()\n",
    "    ft3 = 3*fts[(fts['type'] == 'Free Throw 1 of 3') | (fts['type'] == 'Free Throw Flagrant 1 of 3')][['team','points']].groupby('team').sum()\n",
    "    score = field.add(ft1, fill_value=0).add(ft2, fill_value=0).add(ft3, fill_value=0)\n",
    "    score = list(score['points'].iteritems())\n",
    "    \n",
    "    \n",
    "    Fts = df[(df['event_type'] == 'free throw')]\n",
    "    teamFts = Fts[['team','date']].groupby('team').count()\n",
    "    teamFts = list(teamFts['date'].iteritems())\n",
    "    totalFts = Fts['date'].count()\n",
    "    extraFts = Fts[(Fts['type'] == 'Free Throw Flagrant 3 of 3')| (fts['type'] == 'Free Throw Clear Path 2 of 2')|(Fts['type'] == 'Free Throw Flagrant 2 of 3')|(Fts['type'] == 'Free Throw Flagrant 2 of 2')|(Fts['type'] == 'Free Throw 2 of 2')|(Fts['type'] == 'Free Throw 2 of 3')|(Fts['type'] == 'Free Throw 3 of 3')] \n",
    "    extraFTs = extraFts[['team','date']].groupby('team').count()\n",
    "    teamExtraFts = list(extraFTs['date'].iteritems())\n",
    "    if len(teamExtraFts) < 2:\n",
    "        if teamExtraFts[0][0] != teams[0]:\n",
    "                teamExtraFts.append((i,0))\n",
    "        else:\n",
    "            teamExtraFts=[(teams[0],0)].append(teamExtraFts)\n",
    "    \n",
    "    regfinal = list(df.groupby('team').sum()['points'].iteritems())\n",
    "    \n",
    "    total = list(df[(df['period']<=4) & (df['event_type'] == 'free throw') ][['team','date']].dropna().groupby(['team']).count()['date'].iteritems())\n",
    "    totalMade = list(df[(df['period']<=4) & (df['event_type'] == 'free throw') & (df['result'] == 'made')][['team','date']].dropna().groupby(['team']).count()['date'].iteritems())\n",
    "    insystem = list(df[(df['period']<=4) & (df['event_type'] == 'free throw') & (df['num'] ==1 )][['team','date']].dropna().groupby(['team']).count()['date'].iteritems())\n",
    "    insystemMade = list(df[(df['period']<=4) & (df['event_type'] == 'free throw') & (df['num'] ==1 ) & (df['result'] == 'made')][['team','date']].dropna().groupby(['team']).count()['date'].iteritems())\n",
    "    \n",
    "    if score[0][1] > score[1][1]:\n",
    "        return [(score[0][0], 1, score[0][1], teamFts[0][1], teamExtraFts[0][1],\n",
    "                 score[1][1],regfinal[0][1],regfinal[1][1] , total[0][1], totalMade[0][1],\n",
    "                 insystem[0][1], insystemMade[0][1]),\n",
    "                (score[1][0], 0, score[1][1], teamFts[1][1], teamExtraFts[1][1],\n",
    "                 score[0][1],regfinal[1][1],regfinal[0][1], total[1][1],totalMade[1][1],insystem[1][1],insystemMade[1][1])], totalFts, extraFts['date'].count()\n",
    "    elif score[0][1] < score[1][1]:\n",
    "        return [(score[0][0], 0, score[0][1], teamFts[0][1], teamExtraFts[0][1],\n",
    "                 score[1][1],regfinal[0][1],regfinal[1][1], total[0][1], totalMade[0][1],\n",
    "                 insystem[0][1], insystemMade[0][1]),\n",
    "                (score[1][0], 1, score[1][1],teamFts[1][1], teamExtraFts[1][1],\n",
    "                 score[0][1],regfinal[1][1],regfinal[0][1], total[1][1],totalMade[1][1],insystem[1][1],insystemMade[1][1])], totalFts, extraFts['date'].count()\n",
    "    else:\n",
    "        return [(score[0][0], 0.5, score[0][1], teamFts[0][1], teamExtraFts[0][1],\n",
    "                 score[1][1],regfinal[0][1],regfinal[1][1], total[0][1], totalMade[0][1],\n",
    "                 insystem[0][1], insystemMade[0][1]),\n",
    "                (score[1][0], 0.5, score[1][1], teamFts[1][1], teamExtraFts[1][1],score[0][1],\n",
    "                 regfinal[1][1],regfinal[0][1], total[1][1],totalMade[1][1],insystem[1][1],insystemMade[1][1])],totalFts, extraFts['date'].count()"
   ]
  },
  {
   "cell_type": "markdown",
   "metadata": {},
   "source": [
    "For a given year I process all the CSV files and group the data for each team together."
   ]
  },
  {
   "cell_type": "code",
   "execution_count": 876,
   "metadata": {
    "collapsed": false
   },
   "outputs": [],
   "source": [
    "extrafts = []\n",
    "totalfts = []\n",
    "scores = defaultdict(list)\n",
    "\n",
    "for csv in glob.glob('2013-14/*.csv'):\n",
    "    g1 = pd.read_csv('{}'.format(csv))\n",
    "    if g1['data_set'].unique()[0] != '2013-2014 Regular Season':\n",
    "        continue\n",
    "    else:\n",
    "        try:\n",
    "            s, u, t = scoring(g1)\n",
    "            extrafts.append(t)\n",
    "            totalfts.append(u)\n",
    "            for i in s:\n",
    "                scores[i[0]].append(i[1:])\n",
    "\n",
    "        except:\n",
    "            print csv"
   ]
  },
  {
   "cell_type": "markdown",
   "metadata": {},
   "source": [
    "We make it into summary statistics and then into a nice table we can put on reddit"
   ]
  },
  {
   "cell_type": "code",
   "execution_count": 877,
   "metadata": {
    "collapsed": false
   },
   "outputs": [],
   "source": [
    "newScores=[]\n",
    "west = ['GSW','LAC','SAS','HOU','POR','DAL','OKC','PHX','MEM','UTA','SAC','DEN','NOP','LAL','MIN']\n",
    "year=2014\n",
    "\n",
    "for key in scores.keys():\n",
    "    newScores.append([key,sum([1 for i in scores[key] if i[0] ==1 ]),\n",
    "                      sum([1 for i in scores[key] if i[0] == 0]),\n",
    "                      sum([1 for i in scores[key] if i[0] == 0.5]),\n",
    "                      round(np.mean([i[1] for i in scores[key]]),1),\n",
    "                      round(np.mean([i[1]-i[5] for i in scores[key]]),1),\n",
    "                      round(np.mean([i[4] for i in scores[key]]),1),\n",
    "                      round(np.mean([i[4]-i[6] for i in scores[key]]),1),\n",
    "                      round(np.mean([i[2]-i[3] for i in scores[key]]),1),\n",
    "                      round(np.mean([-i[3] for i in scores[key]]),1),\n",
    "                      round(100.* sum([i[10] for i in scores[key]])/sum([i[9] for i in scores[key]]),2),\n",
    "                      round(100.* sum([i[10] for i in scores[key]])/sum([i[9] for i in scores[key]])-100.* sum([i[8] for i in scores[key]])/sum([i[7] for i in scores[key]]),2),\n",
    "                      1 if key in west else 0 ])"
   ]
  },
  {
   "cell_type": "code",
   "execution_count": 878,
   "metadata": {
    "collapsed": false
   },
   "outputs": [],
   "source": [
    "s=pd.DataFrame(sorted(newScores, key = lambda (a,b,c,d,f,g,h,i,j,k,l,m,e): (-e,-b,-d,a,c,f,g,h,i,j,l,m,k)),\n",
    "             columns=['Team','Wins','Losses','Ties','PPG','Delta PPG','OP PPG','Delta OP PPG','FTPG','extra FTPF','FT%','Real FT%', 'West?']).sort_values(['West?','Wins','Ties'],ascending=False)"
   ]
  },
  {
   "cell_type": "code",
   "execution_count": 879,
   "metadata": {
    "collapsed": false,
    "scrolled": true
   },
   "outputs": [
    {
     "name": "stdout",
     "output_type": "stream",
     "text": [
      "SAS|61|19|2|104.9 (0.0)|96.7 (-0.6)|11.2 (-8.7)|78.24 (-0.23)\n",
      "OKC|58|22|2|105.1 (-0.5)|98.7 (-0.4)|13.5 (-11.4)|78.84 (-1.68)\n",
      "POR|56|24|2|105.7 (0.1)|101.2 (-0.5)|12.5 (-10.5)|81.71 (0.27)\n",
      "LAC|55|24|3|106.8 (-0.7)|100.1 (-0.5)|15.9 (-13.0)|71.29 (-1.74)\n",
      "GSW|49|30|3|102.9 (-0.6)|98.4 (-0.3)|11.5 (-9.5)|72.98 (-2.44)\n",
      "HOU|49|30|3|105.9 (-0.9)|102.1 (-0.3)|16.7 (-14.1)|68.59 (-2.52)\n",
      "MEM|48|31|3|95.0 (-0.5)|93.0 (-0.8)|11.3 (-8.8)|71.58 (-2.49)\n",
      "DAL|48|32|2|103.3 (-0.6)|101.3 (-0.3)|11.6 (-9.3)|76.44 (-3.21)\n",
      "PHX|47|32|3|104.5 (-0.5)|102.0 (-0.4)|13.3 (-10.9)|73.67 (-2.19)\n",
      "MIN|40|39|3|105.6 (-0.3)|102.7 (-0.5)|15.3 (-12.4)|77.14 (-0.71)\n",
      "DEN|33|44|5|103.3 (-0.7)|105.6 (-0.4)|14.4 (-11.8)|69.67 (-2.91)\n",
      "NOP|31|50|1|98.4 (-0.4)|101.4 (-0.3)|13.0 (-10.2)|75.85 (-1.19)\n",
      "SAC|27|53|2|99.2 (-0.4)|102.3 (-0.4)|15.1 (-11.9)|74.6 (-1.48)\n",
      "LAL|26|53|3|102.3 (-0.5)|108.7 (-0.4)|12.4 (-10.0)|73.52 (-2.21)\n",
      "UTA|25|57|0|94.1 (-0.4)|101.4 (-0.2)|12.3 (-9.5)|73.21 (-1.24)\n",
      "MIA|51|25|6|101.2 (-0.2)|95.9 (-0.5)|12.9 (-9.8)|75.36 (-0.69)\n",
      "TOR|51|27|4|100.0 (-0.1)|96.4 (-0.2)|13.7 (-11.0)|77.77 (-0.74)\n",
      "IND|50|30|2|95.5 (-0.5)|91.7 (-0.3)|12.8 (-10.2)|75.41 (-2.37)\n",
      "CHI|48|31|3|92.0 (-0.6)|90.4 (-0.4)|12.6 (-10.4)|75.1 (-2.8)\n",
      "WAS|44|35|3|97.9 (-1.0)|96.6 (-0.8)|11.5 (-8.8)|68.08 (-4.84)\n",
      "BKN|43|38|1|97.2 (-0.4)|97.6 (-1.1)|13.4 (-10.8)|73.68 (-1.89)\n",
      "NYK|40|41|1|97.6 (-0.3)|97.8 (-0.7)|11.2 (-9.0)|74.7 (-1.45)\n",
      "CHA|37|40|5|94.9 (-0.9)|95.9 (-0.2)|13.1 (-10.7)|69.58 (-4.16)\n",
      "ATL|36|45|1|99.6 (-0.4)|99.9 (-0.6)|11.9 (-9.5)|76.38 (-1.49)\n",
      "CLE|30|48|4|96.3 (-0.5)|99.6 (-0.7)|12.4 (-9.8)|72.86 (-2.07)\n",
      "DET|29|49|4|100.2 (-0.4)|103.7 (-0.3)|14.3 (-11.3)|65.42 (-1.61)\n",
      "ORL|26|54|2|94.9 (-0.3)|100.1 (-0.5)|11.4 (-9.1)|74.55 (-1.62)\n",
      "BOS|22|53|7|95.4 (-0.6)|99.8 (-0.7)|11.6 (-9.2)|74.92 (-2.68)\n",
      "MIL|15|66|1|94.0 (-0.6)|102.0 (-0.4)|12.0 (-10.3)|71.62 (-3.14)\n",
      "PHI|12|65|5|98.0 (-0.4)|108.8 (-0.2)|12.9 (-10.2)|69.3 (-1.69)\n"
     ]
    }
   ],
   "source": [
    "for i in s.as_matrix()[:,:-1]:\n",
    "    print '|'.join(map(str,i)[:4])+\"|{} ({})|{} ({})|{} ({})|{} ({})\".format(*map(str,i)[4:])"
   ]
  }
 ],
 "metadata": {
  "kernelspec": {
   "display_name": "Python 2",
   "language": "python",
   "name": "python2"
  },
  "language_info": {
   "codemirror_mode": {
    "name": "ipython",
    "version": 2
   },
   "file_extension": ".py",
   "mimetype": "text/x-python",
   "name": "python",
   "nbconvert_exporter": "python",
   "pygments_lexer": "ipython2",
   "version": "2.7.10"
  }
 },
 "nbformat": 4,
 "nbformat_minor": 0
}
